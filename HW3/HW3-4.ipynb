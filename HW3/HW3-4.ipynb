{
 "cells": [
  {
   "cell_type": "code",
   "execution_count": 7,
   "id": "985ee231",
   "metadata": {
    "scrolled": true
   },
   "outputs": [
    {
     "name": "stdout",
     "output_type": "stream",
     "text": [
      "0.922198936132927\n"
     ]
    }
   ],
   "source": [
    "import math\n",
    "p = 0.6\n",
    "n = 25\n",
    "x = 0\n",
    "for k in range(25//2):\n",
    "    x += math.comb(n,k)*(p**k)*(1-p)**(n-k)\n",
    "print(1-x)"
   ]
  },
  {
   "cell_type": "code",
   "execution_count": 8,
   "id": "e2ce229c",
   "metadata": {},
   "outputs": [
    {
     "name": "stdout",
     "output_type": "stream",
     "text": [
      "0.4574340777935757\n"
     ]
    }
   ],
   "source": [
    "p = 0.45\n",
    "n = 25\n",
    "x = 0\n",
    "for k in range(25//2):\n",
    "    x += math.comb(n,k)*(p**k)*(1-p)**(n-k)\n",
    "print(1-x)"
   ]
  },
  {
   "cell_type": "code",
   "execution_count": null,
   "id": "bc7b2183",
   "metadata": {},
   "outputs": [],
   "source": []
  }
 ],
 "metadata": {
  "kernelspec": {
   "display_name": "Python 3 (ipykernel)",
   "language": "python",
   "name": "python3"
  },
  "language_info": {
   "codemirror_mode": {
    "name": "ipython",
    "version": 3
   },
   "file_extension": ".py",
   "mimetype": "text/x-python",
   "name": "python",
   "nbconvert_exporter": "python",
   "pygments_lexer": "ipython3",
   "version": "3.11.3"
  }
 },
 "nbformat": 4,
 "nbformat_minor": 5
}
