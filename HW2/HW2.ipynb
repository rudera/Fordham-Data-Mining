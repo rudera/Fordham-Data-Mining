{
 "cells": [
  {
   "cell_type": "code",
   "execution_count": 17,
   "id": "4e71ee39",
   "metadata": {},
   "outputs": [],
   "source": [
    "import numpy as np\n",
    "import pandas as pd\n",
    "import matplotlib.pyplot as plt\n",
    "from sklearn.metrics import accuracy_score"
   ]
  },
  {
   "cell_type": "code",
   "execution_count": 2,
   "id": "8f14d5d7",
   "metadata": {},
   "outputs": [],
   "source": [
    "def splitdf(df):\n",
    "    y = df[df.columns[-1]].to_numpy()\n",
    "    x = df[df.columns[:-1]].to_numpy()\n",
    "    return x,y"
   ]
  },
  {
   "cell_type": "code",
   "execution_count": 10,
   "id": "9bd4b2b1",
   "metadata": {},
   "outputs": [],
   "source": [
    "def euclid_dist(x,y):\n",
    "    return np.sqrt(np.sum((np.array(x)-np.array(y))**2))"
   ]
  },
  {
   "cell_type": "code",
   "execution_count": 35,
   "id": "e1542c7f",
   "metadata": {},
   "outputs": [],
   "source": [
    "def KNN(k,traindf,xnew):\n",
    "    x,y = splitdf(traindf)\n",
    "    dists = []\n",
    "    for i in range(len(x)):\n",
    "        dists.append((y[i],euclid_dist(x[i],xnew)))\n",
    "    dists.sort(key=lambda x:x[1])\n",
    "    neighbors=[]\n",
    "    for i in range(k):\n",
    "        neighbors.append(dists[i][0])\n",
    "    return neighbors"
   ]
  },
  {
   "cell_type": "code",
   "execution_count": 5,
   "id": "19a9e013",
   "metadata": {},
   "outputs": [],
   "source": [
    "def KNN_predict(k,traindf,xtest):\n",
    "    preds = []\n",
    "    for xnew in xtest:\n",
    "        neighbors = KNN(k,traindf,xnew)\n",
    "        pred = max(neighbors,key=neighbors.count)\n",
    "        preds.append(pred)\n",
    "    return preds"
   ]
  },
  {
   "cell_type": "code",
   "execution_count": 6,
   "id": "36e2af19",
   "metadata": {},
   "outputs": [],
   "source": [
    "spam_train = pd.read_csv(\"spam_train.csv\")\n",
    "spam_test = pd.read_csv(\"spam_test.csv\")"
   ]
  },
  {
   "cell_type": "code",
   "execution_count": 7,
   "id": "2cfb4ef6",
   "metadata": {},
   "outputs": [],
   "source": [
    "spam_test = spam_test.iloc[: , 1:]\n",
    "xtest,ytest = splitdf(spam_test)"
   ]
  },
  {
   "cell_type": "code",
   "execution_count": 19,
   "id": "5808b3d5",
   "metadata": {},
   "outputs": [],
   "source": [
    "k_values = [1, 5, 11, 21, 41, 61, 81, 101, 201, 401]"
   ]
  },
  {
   "cell_type": "code",
   "execution_count": 37,
   "id": "afc7d1c6",
   "metadata": {},
   "outputs": [
    {
     "name": "stdout",
     "output_type": "stream",
     "text": [
      "[(1, 0.7522816166883963), (5, 0.7548891786179922), (11, 0.7648848326814428), (21, 0.7466318991742721), (41, 0.7522816166883963), (61, 0.7375054324206867), (81, 0.7266405910473707), (101, 0.7288135593220338), (201, 0.7314211212516297), (401, 0.7196870925684485)]\n"
     ]
    }
   ],
   "source": [
    "results = []\n",
    "for k in k_values:\n",
    "    ypred = KNN_predict(k,spam_train,xtest)\n",
    "    results.append((k,accuracy_score(ytest,ypred)))\n",
    "print(results)"
   ]
  },
  {
   "cell_type": "code",
   "execution_count": 28,
   "id": "4c86a8e4",
   "metadata": {},
   "outputs": [],
   "source": [
    "from sklearn.preprocessing import StandardScaler\n",
    "scaler = StandardScaler()"
   ]
  },
  {
   "cell_type": "code",
   "execution_count": 36,
   "id": "ddf9a96f",
   "metadata": {},
   "outputs": [],
   "source": [
    "def zKNN(k,traindf,xnew):\n",
    "    x,y = splitdf(traindf)\n",
    "    x=scaler.fit_transform(x)\n",
    "    dists = []\n",
    "    for i in range(len(x)):\n",
    "        dists.append((y[i],euclid_dist(x[i],xnew)))\n",
    "    dists.sort(key=lambda x:x[1])\n",
    "    neighbors=[]\n",
    "    for i in range(k):\n",
    "        neighbors.append(dists[i][0])\n",
    "    return neighbors\n",
    "def zKNN_predict(k,traindf,xtest):\n",
    "    preds = []\n",
    "    for xnew in xtest:\n",
    "        neighbors = zKNN(k,traindf,xnew)\n",
    "        pred = max(neighbors,key=neighbors.count)\n",
    "        preds.append(pred)\n",
    "    return preds"
   ]
  },
  {
   "cell_type": "code",
   "execution_count": 38,
   "id": "8bdeb598",
   "metadata": {},
   "outputs": [
    {
     "name": "stdout",
     "output_type": "stream",
     "text": [
      "[(1, 0.8231203824424164), (5, 0.8322468491960018), (11, 0.8748370273794003), (21, 0.8709256844850065), (41, 0.8704910908300739), (61, 0.8700564971751412), (81, 0.8696219035202086), (101, 0.8639721860060843), (201, 0.8461538461538461), (401, 0.8144285093437635)]\n"
     ]
    }
   ],
   "source": [
    "zxtest = scaler.fit_transform(xtest)\n",
    "results = []\n",
    "for k in k_values:\n",
    "    ypred = zKNN_predict(k,spam_train,zxtest)\n",
    "    results.append((k,accuracy_score(ytest,ypred)))\n",
    "print(results)"
   ]
  },
  {
   "cell_type": "code",
   "execution_count": 43,
   "id": "06291b31",
   "metadata": {},
   "outputs": [
    {
     "name": "stdout",
     "output_type": "stream",
     "text": [
      "t 1   ['spam', 'spam', 'spam', 'spam', 'spam', 'no-spam', 'no-spam', 'no-spam', 'no-spam', 'no-spam']\n",
      "t 2   ['spam', 'spam', 'spam', 'spam', 'spam', 'spam', 'spam', 'no-spam', 'no-spam', 'no-spam']\n",
      "t 3   ['spam', 'spam', 'spam', 'spam', 'spam', 'spam', 'spam', 'spam', 'spam', 'spam']\n",
      "t 4   ['spam', 'spam', 'spam', 'spam', 'no-spam', 'no-spam', 'spam', 'spam', 'spam', 'spam']\n",
      "t 5   ['spam', 'spam', 'spam', 'spam', 'spam', 'spam', 'spam', 'spam', 'spam', 'spam']\n",
      "t 6   ['spam', 'spam', 'spam', 'no-spam', 'no-spam', 'spam', 'spam', 'spam', 'spam', 'spam']\n",
      "t 7   ['spam', 'no-spam', 'no-spam', 'no-spam', 'no-spam', 'no-spam', 'no-spam', 'no-spam', 'no-spam', 'no-spam']\n",
      "t 8   ['spam', 'spam', 'spam', 'spam', 'spam', 'spam', 'spam', 'spam', 'spam', 'spam']\n",
      "t 9   ['spam', 'spam', 'spam', 'spam', 'spam', 'spam', 'spam', 'spam', 'spam', 'spam']\n",
      "t 10   ['spam', 'spam', 'spam', 'spam', 'spam', 'spam', 'spam', 'spam', 'spam', 'spam']\n",
      "t 11   ['spam', 'spam', 'spam', 'spam', 'spam', 'spam', 'spam', 'spam', 'spam', 'spam']\n",
      "t 12   ['spam', 'spam', 'spam', 'spam', 'spam', 'spam', 'spam', 'spam', 'spam', 'spam']\n",
      "t 13   ['spam', 'spam', 'spam', 'spam', 'spam', 'spam', 'no-spam', 'no-spam', 'no-spam', 'no-spam']\n",
      "t 14   ['no-spam', 'spam', 'spam', 'spam', 'no-spam', 'no-spam', 'no-spam', 'no-spam', 'no-spam', 'no-spam']\n",
      "t 15   ['spam', 'spam', 'spam', 'spam', 'spam', 'spam', 'spam', 'spam', 'spam', 'spam']\n",
      "t 16   ['spam', 'spam', 'spam', 'spam', 'spam', 'spam', 'spam', 'spam', 'spam', 'spam']\n",
      "t 17   ['spam', 'spam', 'spam', 'spam', 'spam', 'spam', 'spam', 'spam', 'spam', 'spam']\n",
      "t 18   ['spam', 'spam', 'spam', 'spam', 'spam', 'spam', 'spam', 'no-spam', 'no-spam', 'no-spam']\n",
      "t 19   ['spam', 'spam', 'spam', 'spam', 'spam', 'spam', 'spam', 'spam', 'spam', 'spam']\n",
      "t 20   ['no-spam', 'spam', 'spam', 'spam', 'spam', 'spam', 'spam', 'spam', 'spam', 'spam']\n",
      "t 21   ['spam', 'spam', 'spam', 'spam', 'spam', 'spam', 'spam', 'spam', 'spam', 'spam']\n",
      "t 22   ['spam', 'spam', 'spam', 'spam', 'spam', 'spam', 'no-spam', 'no-spam', 'no-spam', 'no-spam']\n",
      "t 23   ['spam', 'spam', 'spam', 'spam', 'spam', 'spam', 'spam', 'spam', 'spam', 'spam']\n",
      "t 24   ['no-spam', 'no-spam', 'spam', 'spam', 'spam', 'spam', 'spam', 'spam', 'spam', 'spam']\n",
      "t 25   ['spam', 'spam', 'spam', 'spam', 'spam', 'spam', 'spam', 'spam', 'spam', 'spam']\n",
      "t 26   ['spam', 'spam', 'spam', 'spam', 'spam', 'spam', 'spam', 'spam', 'spam', 'spam']\n",
      "t 27   ['spam', 'spam', 'spam', 'spam', 'spam', 'spam', 'spam', 'spam', 'spam', 'spam']\n",
      "t 28   ['spam', 'spam', 'spam', 'spam', 'spam', 'spam', 'spam', 'spam', 'spam', 'spam']\n",
      "t 29   ['spam', 'spam', 'spam', 'no-spam', 'spam', 'spam', 'spam', 'spam', 'no-spam', 'no-spam']\n",
      "t 30   ['spam', 'spam', 'spam', 'spam', 'no-spam', 'no-spam', 'no-spam', 'no-spam', 'no-spam', 'no-spam']\n",
      "t 31   ['spam', 'no-spam', 'no-spam', 'no-spam', 'no-spam', 'no-spam', 'no-spam', 'no-spam', 'no-spam', 'no-spam']\n",
      "t 32   ['spam', 'spam', 'spam', 'spam', 'no-spam', 'spam', 'spam', 'spam', 'no-spam', 'no-spam']\n",
      "t 33   ['spam', 'spam', 'spam', 'spam', 'no-spam', 'no-spam', 'no-spam', 'no-spam', 'no-spam', 'no-spam']\n",
      "t 34   ['spam', 'spam', 'no-spam', 'spam', 'no-spam', 'no-spam', 'no-spam', 'no-spam', 'no-spam', 'no-spam']\n",
      "t 35   ['spam', 'spam', 'spam', 'spam', 'spam', 'spam', 'spam', 'spam', 'spam', 'spam']\n",
      "t 36   ['spam', 'spam', 'spam', 'spam', 'spam', 'spam', 'spam', 'spam', 'spam', 'spam']\n",
      "t 37   ['spam', 'spam', 'spam', 'spam', 'spam', 'spam', 'spam', 'spam', 'spam', 'spam']\n",
      "t 38   ['spam', 'spam', 'spam', 'spam', 'spam', 'spam', 'spam', 'spam', 'spam', 'spam']\n",
      "t 39   ['spam', 'spam', 'spam', 'spam', 'spam', 'spam', 'spam', 'spam', 'spam', 'spam']\n",
      "t 40   ['no-spam', 'no-spam', 'no-spam', 'no-spam', 'no-spam', 'no-spam', 'no-spam', 'no-spam', 'no-spam', 'no-spam']\n",
      "t 41   ['no-spam', 'no-spam', 'no-spam', 'no-spam', 'no-spam', 'no-spam', 'no-spam', 'no-spam', 'no-spam', 'no-spam']\n",
      "t 42   ['spam', 'spam', 'spam', 'spam', 'spam', 'spam', 'spam', 'spam', 'no-spam', 'no-spam']\n",
      "t 43   ['no-spam', 'no-spam', 'no-spam', 'no-spam', 'no-spam', 'no-spam', 'no-spam', 'no-spam', 'no-spam', 'no-spam']\n",
      "t 44   ['no-spam', 'no-spam', 'no-spam', 'no-spam', 'no-spam', 'no-spam', 'no-spam', 'no-spam', 'no-spam', 'no-spam']\n",
      "t 45   ['spam', 'spam', 'spam', 'spam', 'spam', 'spam', 'spam', 'spam', 'spam', 'spam']\n",
      "t 46   ['spam', 'spam', 'spam', 'spam', 'spam', 'spam', 'spam', 'spam', 'spam', 'spam']\n",
      "t 47   ['spam', 'spam', 'spam', 'spam', 'spam', 'spam', 'spam', 'spam', 'spam', 'spam']\n",
      "t 48   ['spam', 'spam', 'spam', 'spam', 'spam', 'spam', 'spam', 'spam', 'spam', 'spam']\n",
      "t 49   ['spam', 'spam', 'spam', 'spam', 'spam', 'spam', 'spam', 'spam', 'spam', 'spam']\n",
      "t 50   ['spam', 'spam', 'spam', 'spam', 'spam', 'spam', 'spam', 'spam', 'spam', 'spam']\n"
     ]
    }
   ],
   "source": [
    "for i in range(50):\n",
    "    predvalues = []\n",
    "    for k in k_values:\n",
    "        ypred = zKNN_predict(k,spam_train,zxtest)\n",
    "        if ypred[i] == 1:\n",
    "            predvalues.append(\"spam\")\n",
    "        else:\n",
    "            predvalues.append(\"no-spam\")\n",
    "    print(\"t\",i+1,\" \",predvalues)"
   ]
  },
  {
   "cell_type": "code",
   "execution_count": null,
   "id": "9c0093de",
   "metadata": {},
   "outputs": [],
   "source": []
  }
 ],
 "metadata": {
  "kernelspec": {
   "display_name": "Python 3 (ipykernel)",
   "language": "python",
   "name": "python3"
  },
  "language_info": {
   "codemirror_mode": {
    "name": "ipython",
    "version": 3
   },
   "file_extension": ".py",
   "mimetype": "text/x-python",
   "name": "python",
   "nbconvert_exporter": "python",
   "pygments_lexer": "ipython3",
   "version": "3.11.3"
  }
 },
 "nbformat": 4,
 "nbformat_minor": 5
}
